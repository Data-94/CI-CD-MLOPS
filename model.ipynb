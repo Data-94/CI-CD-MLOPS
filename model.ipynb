{
 "cells": [
  {
   "cell_type": "code",
   "execution_count": 6,
   "id": "6ecefc67",
   "metadata": {},
   "outputs": [
    {
     "name": "stdout",
     "output_type": "stream",
     "text": [
      "        u_q    coolant  stator_winding       u_d  stator_tooth  motor_speed  \\\n",
      "0 -0.450682  18.805172       19.086670 -0.350055     18.293219     0.002866   \n",
      "1 -0.325737  18.818571       19.092390 -0.305803     18.294807     0.000257   \n",
      "2 -0.440864  18.828770       19.089380 -0.372503     18.294094     0.002355   \n",
      "3 -0.327026  18.835567       19.083031 -0.316199     18.292542     0.006105   \n",
      "4 -0.471150  18.857033       19.082525 -0.332272     18.291428     0.003133   \n",
      "5 -0.538973  18.901548       19.077108  0.009147     18.290628     0.009636   \n",
      "6 -0.653148  18.941711       19.074583  0.238890     18.292524     0.001337   \n",
      "7 -0.758392  18.960861       19.082499  0.395099     18.294041     0.001422   \n",
      "8 -0.727128  18.973545       19.085533  0.546623     18.291964     0.000577   \n",
      "9 -0.874307  18.987812       19.076025  0.578944     18.287233    -0.001248   \n",
      "\n",
      "        i_d       i_q         pm  stator_yoke  \n",
      "0  0.004419  0.000328  24.554214    18.316547  \n",
      "1  0.000606 -0.000785  24.538078    18.314955  \n",
      "2  0.001290  0.000386  24.544693    18.326307  \n",
      "3  0.000026  0.002046  24.554018    18.330833  \n",
      "4 -0.064317  0.037184  24.565397    18.326662  \n",
      "5 -0.613635  0.336747  24.573601    18.323862  \n",
      "6 -1.005647  0.554211  24.576578    18.321936  \n",
      "7 -1.288384  0.706370  24.574949    18.314655  \n",
      "8 -1.490530  0.817339  24.567080    18.306925  \n",
      "9 -1.634464  0.898013  24.553242    18.301733  \n"
     ]
    }
   ],
   "source": [
    "import pandas as pd\n",
    "\n",
    "# CSV dosyasını oku\n",
    "df_motor = pd.read_csv(r\"C:\\Users\\Emre\\Desktop\\AYIKLA 24-10-2023\\bootcamp\\ML_OPS\\MLOPS_CI_CD_PROJECT\\CI-CD-PROJECT\\electric_motor_temperature.csv\")\n",
    "\n",
    "# İstediğin sütunlar\n",
    "columns_to_keep = [\n",
    "    \"u_q\",\n",
    "    \"coolant\",\n",
    "    \"stator_winding\",\n",
    "    \"u_d\",\n",
    "    \"stator_tooth\",\n",
    "    \"motor_speed\",\n",
    "    \"i_d\",\n",
    "    \"i_q\",\n",
    "    \"pm\",\n",
    "    \"stator_yoke\"\n",
    "]\n",
    "\n",
    "df_motor = df_motor[columns_to_keep]\n",
    "\n",
    "# İlk 10 satırı göster\n",
    "print(df_motor.head(10))\n",
    "\n"
   ]
  },
  {
   "cell_type": "code",
   "execution_count": 8,
   "id": "abb0f090",
   "metadata": {},
   "outputs": [
    {
     "name": "stdout",
     "output_type": "stream",
     "text": [
      "📊 Her sütunun ortalaması:\n",
      "u_q                 54.279005\n",
      "coolant             36.229995\n",
      "stator_winding      66.342745\n",
      "u_d                -25.133809\n",
      "stator_tooth        56.878582\n",
      "motor_speed       2202.080728\n",
      "i_d                -68.716810\n",
      "i_q                 37.412782\n",
      "pm                  58.506776\n",
      "stator_yoke         48.187965\n",
      "dtype: float64\n"
     ]
    }
   ],
   "source": [
    "import pandas as pd\n",
    "\n",
    "# CSV dosyasını oku\n",
    "df_motor = pd.read_csv(\n",
    "    r\"C:\\Users\\Emre\\Desktop\\AYIKLA 24-10-2023\\bootcamp\\ML_OPS\\MLOPS_CI_CD_PROJECT\\CI-CD-PROJECT\\electric_motor_temperature.csv\"\n",
    ")\n",
    "\n",
    "# İstediğin sütunlar\n",
    "columns_to_keep = [\n",
    "    \"u_q\",\n",
    "    \"coolant\",\n",
    "    \"stator_winding\",\n",
    "    \"u_d\",\n",
    "    \"stator_tooth\",\n",
    "    \"motor_speed\",\n",
    "    \"i_d\",\n",
    "    \"i_q\",\n",
    "    \"pm\",\n",
    "    \"stator_yoke\"\n",
    "]\n",
    "\n",
    "df_motor = df_motor[columns_to_keep]\n",
    "\n",
    "# Her sütunun ortalamasını hesapla\n",
    "column_means = df_motor.mean()\n",
    "\n",
    "# Ortalamaları yazdır\n",
    "print(\"📊 Her sütunun ortalaması:\")\n",
    "print(column_means)\n"
   ]
  },
  {
   "cell_type": "code",
   "execution_count": 12,
   "id": "a046bb2b",
   "metadata": {},
   "outputs": [
    {
     "name": "stdout",
     "output_type": "stream",
     "text": [
      "📌 Veri setindeki toplam satır sayısı: 1330816\n",
      "📊 Her sütunun ortalaması:\n",
      "u_q                 54.279005\n",
      "coolant             36.229995\n",
      "stator_winding      66.342745\n",
      "u_d                -25.133809\n",
      "stator_tooth        56.878582\n",
      "motor_speed       2202.080728\n",
      "i_d                -68.716810\n",
      "i_q                 37.412782\n",
      "pm                  58.506776\n",
      "stator_yoke         48.187965\n",
      "dtype: float64\n"
     ]
    }
   ],
   "source": [
    "import pandas as pd\n",
    "\n",
    "# CSV dosyasını oku\n",
    "df_motor = pd.read_csv(\n",
    "    r\"C:\\Users\\Emre\\Desktop\\AYIKLA 24-10-2023\\bootcamp\\ML_OPS\\MLOPS_CI_CD_PROJECT\\CI-CD-PROJECT\\electric_motor_temperature.csv\"\n",
    ")\n",
    "\n",
    "# İstediğin sütunlar\n",
    "columns_to_keep = [\n",
    "    \"u_q\",\n",
    "    \"coolant\",\n",
    "    \"stator_winding\",\n",
    "    \"u_d\",\n",
    "    \"stator_tooth\",\n",
    "    \"motor_speed\",\n",
    "    \"i_d\",\n",
    "    \"i_q\",\n",
    "    \"pm\",\n",
    "    \"stator_yoke\"\n",
    "]\n",
    "\n",
    "df_motor = df_motor[columns_to_keep]\n",
    "\n",
    "# Satır sayısını bul\n",
    "row_count = len(df_motor)\n",
    "print(f\"📌 Veri setindeki toplam satır sayısı: {row_count}\")\n",
    "\n",
    "# Her sütunun ortalamasını hesapla\n",
    "column_means = df_motor.mean()\n",
    "\n",
    "# Ortalamaları yazdır\n",
    "print(\"📊 Her sütunun ortalaması:\")\n",
    "print(column_means)\n"
   ]
  },
  {
   "cell_type": "code",
   "execution_count": 11,
   "id": "f4518a11",
   "metadata": {},
   "outputs": [
    {
     "name": "stdout",
     "output_type": "stream",
     "text": [
      "\n",
      "📉 Her sütunun minimum değeri:\n",
      "u_q               -25.290930\n",
      "coolant            10.623751\n",
      "stator_winding     18.585815\n",
      "u_d              -131.530411\n",
      "stator_tooth       18.133976\n",
      "motor_speed      -275.549144\n",
      "i_d              -278.003632\n",
      "i_q              -293.426793\n",
      "pm                 20.856956\n",
      "stator_yoke        18.076689\n",
      "dtype: float64\n"
     ]
    }
   ],
   "source": [
    "import pandas as pd\n",
    "\n",
    "# CSV dosyasını oku\n",
    "df_motor = pd.read_csv(\n",
    "    r\"C:\\Users\\Emre\\Desktop\\AYIKLA 24-10-2023\\bootcamp\\ML_OPS\\MLOPS_CI_CD_PROJECT\\CI-CD-PROJECT\\electric_motor_temperature.csv\"\n",
    ")\n",
    "\n",
    "# İstediğin sütunlar\n",
    "columns_to_keep = [\n",
    "    \"u_q\",\n",
    "    \"coolant\",\n",
    "    \"stator_winding\",\n",
    "    \"u_d\",\n",
    "    \"stator_tooth\",\n",
    "    \"motor_speed\",\n",
    "    \"i_d\",\n",
    "    \"i_q\",\n",
    "    \"pm\",\n",
    "    \"stator_yoke\"\n",
    "]\n",
    "\n",
    "df_motor = df_motor[columns_to_keep]\n",
    "\n",
    "\n",
    "print(\"\\n📉 Her sütunun minimum değeri:\")\n",
    "print(column_min)\n"
   ]
  },
  {
   "cell_type": "code",
   "execution_count": 7,
   "id": "04e6bec9",
   "metadata": {},
   "outputs": [
    {
     "name": "stderr",
     "output_type": "stream",
     "text": [
      "2025/08/24 13:27:08 WARNING mlflow.utils.requirements_utils: Detected one or more mismatches between the model's dependencies and the current Python environment:\n",
      " - mlflow (current: 2.17.0, required: mlflow==2.16.2)\n",
      "To fix the mismatches, call `mlflow.pyfunc.get_model_dependencies(model_uri)` to fetch the model's environment and install dependencies using the resulting environment file.\n",
      "2025/08/24 13:27:08 WARNING mlflow.models.model: Model logged without a signature and input example. Please set `input_example` parameter when logging the model to auto infer the model signature.\n"
     ]
    },
    {
     "name": "stdout",
     "output_type": "stream",
     "text": [
      "✅ Isolation Forest modeli, scaler ve anomali sütunu kaydedildi\n"
     ]
    }
   ],
   "source": [
    "import mlflow\n",
    "import mlflow.sklearn\n",
    "import pandas as pd\n",
    "import pickle\n",
    "from sklearn.preprocessing import StandardScaler\n",
    "from sklearn.ensemble import IsolationForest\n",
    "\n",
    "# --- Veri Seti Yükleme ---\n",
    "df_motor = pd.read_csv(\n",
    "    r\"C:\\Users\\Emre\\Desktop\\AYIKLA 24-10-2023\\bootcamp\\ML_OPS\\MLOPS_CI_CD_PROJECT\\CI-CD-PROJECT\\electric_motor_temperature.csv\"\n",
    ")\n",
    "\n",
    "# --- Kullanılacak Sütunlar ---\n",
    "columns_to_keep = [\n",
    "    \"u_q\", \"coolant\", \"stator_winding\", \"u_d\", \"stator_tooth\",\n",
    "    \"motor_speed\", \"i_d\", \"i_q\", \"pm\", \"stator_yoke\"\n",
    "]\n",
    "df_motor = df_motor[columns_to_keep]\n",
    "\n",
    "# --- Özellikler ---\n",
    "X = df_motor\n",
    "\n",
    "# --- Ölçeklendirme ---\n",
    "scaler = StandardScaler()\n",
    "X_scaled = scaler.fit_transform(X)\n",
    "\n",
    "# ==============================\n",
    "# Unsupervised Anomaly Detection\n",
    "# ==============================\n",
    "with mlflow.start_run(run_name=\"IsolationForest-run\"):\n",
    "\n",
    "    iso_forest = IsolationForest(\n",
    "        contamination=0.01,  # yaklaşık %1 anomali varsayımı\n",
    "        random_state=42\n",
    "    )\n",
    "    iso_forest.fit(X_scaled)\n",
    "\n",
    "    # Tahmin: 1 = normal, -1 = anomali\n",
    "    y_pred = iso_forest.predict(X_scaled)\n",
    "\n",
    "    # 0 = normal, 1 = anomali\n",
    "    df_motor[\"anomaly\"] = [0 if val == 1 else 1 for val in y_pred]\n",
    "\n",
    "    # MLflow log\n",
    "    mlflow.log_param(\"model\", \"IsolationForest\")\n",
    "    mlflow.log_param(\"contamination\", 0.01)\n",
    "\n",
    "    # Modeli MLflow'a kaydet\n",
    "    mlflow.sklearn.log_model(iso_forest, \"IsolationForest_model\")\n",
    "\n",
    "    # Pickle olarak kaydet (model)\n",
    "    with open(\"IsolationForest_model.pkl\", \"wb\") as f:\n",
    "        pickle.dump(iso_forest, f)\n",
    "\n",
    "    # Pickle olarak kaydet (scaler)\n",
    "    with open(\"scaler.pkl\", \"wb\") as f:\n",
    "        pickle.dump(scaler, f)\n",
    "\n",
    "print(\"✅ Isolation Forest modeli, scaler ve anomali sütunu kaydedildi\")\n"
   ]
  },
  {
   "cell_type": "code",
   "execution_count": 4,
   "id": "15798d58",
   "metadata": {},
   "outputs": [
    {
     "name": "stdout",
     "output_type": "stream",
     "text": [
      "1.2.2\n"
     ]
    }
   ],
   "source": [
    "import sklearn\n",
    "print(sklearn.__version__)"
   ]
  }
 ],
 "metadata": {
  "kernelspec": {
   "display_name": "base",
   "language": "python",
   "name": "python3"
  },
  "language_info": {
   "codemirror_mode": {
    "name": "ipython",
    "version": 3
   },
   "file_extension": ".py",
   "mimetype": "text/x-python",
   "name": "python",
   "nbconvert_exporter": "python",
   "pygments_lexer": "ipython3",
   "version": "3.11.7"
  }
 },
 "nbformat": 4,
 "nbformat_minor": 5
}
